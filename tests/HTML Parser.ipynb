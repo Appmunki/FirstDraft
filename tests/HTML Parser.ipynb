{
 "metadata": {
  "name": "HTML Parser"
 },
 "nbformat": 3,
 "nbformat_minor": 0,
 "worksheets": [
  {
   "cells": [
    {
     "cell_type": "code",
     "collapsed": false,
     "input": [
      "import sys\n",
      "sys.path.append(\"..\")\n",
      "\n",
      "import ParseTree"
     ],
     "language": "python",
     "metadata": {},
     "outputs": [],
     "prompt_number": 1
    },
    {
     "cell_type": "code",
     "collapsed": false,
     "input": [],
     "language": "python",
     "metadata": {},
     "outputs": []
    },
    {
     "cell_type": "code",
     "collapsed": false,
     "input": [
      "import json\n",
      "\n",
      "def VisualParse(json_filepath):\n",
      "    object_tree = json.load(open(json_filepath, 'r'))\n",
      "    return doParse(object_tree)\n",
      "\n",
      "def doParse(vnode):\n",
      "    thisnode = ParseTree.VisualNode(vnode['parent'], vnode['type'], vnode['bbox'])\n",
      "    for cnode in vnode['children']:\n",
      "        thisnode.addNewChild(doParse(cnode))\n",
      "    return thisnode"
     ],
     "language": "python",
     "metadata": {},
     "outputs": [],
     "prompt_number": 2
    },
    {
     "cell_type": "code",
     "collapsed": false,
     "input": [
      "VisualTree = VisualParse('test.json')"
     ],
     "language": "python",
     "metadata": {},
     "outputs": [],
     "prompt_number": 3
    },
    {
     "cell_type": "code",
     "collapsed": false,
     "input": [
      "ParseTree.HTMLTree(VisualTree)"
     ],
     "language": "python",
     "metadata": {},
     "outputs": [
      {
       "output_type": "stream",
       "stream": "stdout",
       "text": [
        "<div>Lorem Ipsum<div>Lorem Ipsum</div></div>\n"
       ]
      },
      {
       "output_type": "pyout",
       "prompt_number": 4,
       "text": [
        "<ParseTree.HTMLTree at 0xb20968c>"
       ]
      }
     ],
     "prompt_number": 4
    }
   ],
   "metadata": {}
  }
 ]
}