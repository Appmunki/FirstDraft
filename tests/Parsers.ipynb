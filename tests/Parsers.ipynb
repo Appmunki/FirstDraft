{
 "metadata": {
  "name": ""
 },
 "nbformat": 3,
 "nbformat_minor": 0,
 "worksheets": [
  {
   "cells": [
    {
     "cell_type": "code",
     "collapsed": false,
     "input": [
      "import sys\n",
      "sys.path.append(\"..\")\n",
      "\n",
      "from ParseTree import *\n",
      "from BasicHTMLGenerator import *\n",
      "from CSSHTMLGenerator import *\n",
      "from BootstrapHTMLGenerator import *\n",
      "\n",
      "import json\n",
      "\n",
      "def VisualParse(json_filepath):\n",
      "    object_tree = json.load(open(json_filepath, 'r'))\n",
      "    return doParse(object_tree)\n",
      "\n",
      "def doParse(vnode):\n",
      "    jbbox = vnode['bbox']\n",
      "    bbox = RelativeBoundingBox(int(jbbox['offsetX']),int(jbbox['offsetY']),int(jbbox['width']),int(jbbox['height']))\n",
      "    thisnode = VisualNode(vnode['parent'], vnode['type'], bbox)\n",
      "    for cnode in vnode['children']:\n",
      "        thisnode.addNewChild(doParse(cnode))\n",
      "    return thisnode\n",
      "\n",
      "def writeHTMLToFile(html,filename):\n",
      "    with open(filename,\"w\") as f:\n",
      "        f.write(html)"
     ],
     "language": "python",
     "metadata": {},
     "outputs": [],
     "prompt_number": 1
    },
    {
     "cell_type": "code",
     "collapsed": false,
     "input": [
      "test_json_file = \"test3.json\""
     ],
     "language": "python",
     "metadata": {},
     "outputs": [],
     "prompt_number": 2
    },
    {
     "cell_type": "code",
     "collapsed": false,
     "input": [
      "VisualTree = VisualParse(test_json_file)\n",
      "hTMLTree = HTMLTree(VisualTree)\n",
      "html = HTMLGenerate(hTMLTree,BasicHTMLGenerator())\n",
      "print html\n",
      "writeHTMLToFile(html,\"basic.html\")"
     ],
     "language": "python",
     "metadata": {},
     "outputs": [
      {
       "output_type": "stream",
       "stream": "stdout",
       "text": [
        "<!DOCTYPE html><html lang='en'><head><title>A First Draft</title></head><body><div style='border: dashed; width: 1024px; height: 768px'><div ><header >Lorem Ipsum</header><h1 >Lorem Ipsum</h1><input type='text' ><button type='submit' value='submit' >Submit</button></div></div></body></html>\n"
       ]
      }
     ],
     "prompt_number": 3
    },
    {
     "cell_type": "code",
     "collapsed": false,
     "input": [
      "VisualTree = VisualParse(test_json_file)\n",
      "hTMLTree = HTMLTree(VisualTree)\n",
      "html = HTMLGenerate(hTMLTree,CSSHTMLGenerator())\n",
      "print html\n",
      "writeHTMLToFile(html,\"css.html\")"
     ],
     "language": "python",
     "metadata": {},
     "outputs": [
      {
       "output_type": "stream",
       "stream": "stdout",
       "text": [
        "<!DOCTYPE html><html lang='en'><head><title>A First Draft</title> <style type='text/css'>#aa { \n",
        "position: absolute;\n",
        "top: 0px;\n",
        "height: 768px;\n",
        "width: 1024px;\n",
        "left: 0px;\n",
        "}\n",
        "\n",
        "#aaaaaa { \n",
        "position: absolute;\n",
        "top: 10px;\n",
        "height: 30px;\n",
        "width: 50px;\n",
        "left: 10px;\n",
        "}\n",
        "\n",
        "#aada { \n",
        "position: absolute;\n",
        "top: 200px;\n",
        "height: 40px;\n",
        "width: 70px;\n",
        "left: 820px;\n",
        "}\n",
        "\n",
        "#aaba { \n",
        "position: absolute;\n",
        "top: 100px;\n",
        "height: 70px;\n",
        "width: 400px;\n",
        "left: 300px;\n",
        "}\n",
        "\n",
        "#aaca { \n",
        "position: absolute;\n",
        "top: 200px;\n",
        "height: 40px;\n",
        "width: 700px;\n",
        "left: 100px;\n",
        "}\n",
        "\n",
        "#aaaa { \n",
        "position: absolute;\n",
        "top: 0px;\n",
        "height: 50px;\n",
        "width: 1024px;\n",
        "left: 0px;\n",
        "}\n",
        "\n",
        "</style> </head><body><div style='border: dashed; width: 1024px; height: 768px'><div id='aa'><header id='aaaa'>Lorem Ipsum</header><h1 id='aaba'>Lorem Ipsum</h1><input type='text' id='aaca'><button type='submit' value='submit' id='aada'>Submit</button></div></div></body></html>\n"
       ]
      }
     ],
     "prompt_number": 4
    },
    {
     "cell_type": "code",
     "collapsed": false,
     "input": [
      "VisualTree = VisualParse(test_json_file)\n",
      "hTMLTree = HTMLTree(VisualTree)\n",
      "html = HTMLGenerate(hTMLTree,BootstrapHTMLGenerator())\n",
      "print html\n",
      "writeHTMLToFile(html,\"bcss.html\")"
     ],
     "language": "python",
     "metadata": {},
     "outputs": [
      {
       "output_type": "stream",
       "stream": "stdout",
       "text": [
        "<!DOCTYPE html><html lang='en'><head><title>A First Draft</title> <link href='http://netdna.bootstrapcdn.com/bootstrap/3.0.0/css/bootstrap.min.css' rel='stylesheet'><script src='http://netdna.bootstrapcdn.com/bootstrap/3.0.0/js/bootstrap.min.js'></script> <style type='text/css'>#aa { \n",
        "position: absolute;\n",
        "top: 0px;\n",
        "height: 768px;\n",
        "width: 1024px;\n",
        "left: 0px;\n",
        "}\n",
        "\n",
        "#aaaaaa { \n",
        "position: absolute;\n",
        "top: 10px;\n",
        "height: 30px;\n",
        "width: 50px;\n",
        "left: 10px;\n",
        "}\n",
        "\n",
        "#aada { \n",
        "position: absolute;\n",
        "top: 200px;\n",
        "height: 40px;\n",
        "width: 70px;\n",
        "left: 820px;\n",
        "}\n",
        "\n",
        "#aaba { \n",
        "position: absolute;\n",
        "top: 100px;\n",
        "height: 70px;\n",
        "width: 400px;\n",
        "left: 300px;\n",
        "}\n",
        "\n",
        "#aaca { \n",
        "position: absolute;\n",
        "top: 200px;\n",
        "height: 40px;\n",
        "width: 700px;\n",
        "left: 100px;\n",
        "}\n",
        "\n",
        "#aaaa { \n",
        "position: absolute;\n",
        "top: 0px;\n",
        "height: 50px;\n",
        "width: 1024px;\n",
        "left: 0px;\n",
        "}\n",
        "\n",
        "</style> </head><body><div style='border: dashed; width: 1024px; height: 768px'><div id='aa'><header id='aaaa'>Lorem Ipsum</header><h1 id='aaba'>Lorem Ipsum</h1><input type='text' id='aaca'><button type='submit' value='submit' id='aada'>Submit</button></div></div></body></html>\n"
       ]
      }
     ],
     "prompt_number": 5
    },
    {
     "cell_type": "code",
     "collapsed": false,
     "input": [],
     "language": "python",
     "metadata": {},
     "outputs": [],
     "prompt_number": 5
    },
    {
     "cell_type": "code",
     "collapsed": false,
     "input": [],
     "language": "python",
     "metadata": {},
     "outputs": []
    }
   ],
   "metadata": {}
  }
 ]
}