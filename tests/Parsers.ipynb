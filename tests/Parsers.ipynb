{
 "metadata": {
  "name": ""
 },
 "nbformat": 3,
 "nbformat_minor": 0,
 "worksheets": [
  {
   "cells": [
    {
     "cell_type": "code",
     "collapsed": false,
     "input": [
      "import sys\n",
      "sys.path.append(\"..\")\n",
      "\n",
      "from ParseTree import *\n",
      "from BasicHTMLGenerator import *\n",
      "\n",
      "import json\n",
      "\n",
      "def VisualParse(json_filepath):\n",
      "    object_tree = json.load(open(json_filepath, 'r'))\n",
      "    return doParse(object_tree)\n",
      "\n",
      "def doParse(vnode):\n",
      "    thisnode = VisualNode(vnode['parent'], vnode['type'], vnode['bbox'])\n",
      "    for cnode in vnode['children']:\n",
      "        thisnode.addNewChild(doParse(cnode))\n",
      "    return thisnode\n",
      "\n",
      "def writeHTMLToFile(html,filename):\n",
      "    with open(filename,\"w\") as f:\n",
      "        f.write(html)"
     ],
     "language": "python",
     "metadata": {},
     "outputs": [],
     "prompt_number": 7
    },
    {
     "cell_type": "code",
     "collapsed": false,
     "input": [
      "test_json_file = \"test.json\""
     ],
     "language": "python",
     "metadata": {},
     "outputs": [],
     "prompt_number": 8
    },
    {
     "cell_type": "code",
     "collapsed": false,
     "input": [
      "VisualTree = VisualParse('test.json')\n",
      "HTMLTree = HTMLTree(VisualTree)"
     ],
     "language": "python",
     "metadata": {},
     "outputs": [],
     "prompt_number": 9
    },
    {
     "cell_type": "code",
     "collapsed": false,
     "input": [
      "html = HTMLGenerate(HTMLTree,BasicHTMLGenerator())\n",
      "print html\n",
      "writeHTMLToFile(html,\"basic.html\")"
     ],
     "language": "python",
     "metadata": {},
     "outputs": [
      {
       "output_type": "stream",
       "stream": "stdout",
       "text": [
        "<!DOCTYPE html><html lang='en'><head><title>A First Draft</title></head><body><div >Lorem Ipsum<div >Lorem Ipsum</div></div></body></html>\n"
       ]
      }
     ],
     "prompt_number": 11
    },
    {
     "cell_type": "code",
     "collapsed": false,
     "input": [],
     "language": "python",
     "metadata": {},
     "outputs": []
    }
   ],
   "metadata": {}
  }
 ]
}