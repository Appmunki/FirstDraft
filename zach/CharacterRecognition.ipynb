{
 "metadata": {
  "name": "CharacterRecognition"
 },
 "nbformat": 3,
 "nbformat_minor": 0,
 "worksheets": [
  {
   "cells": [
    {
     "cell_type": "code",
     "collapsed": false,
     "input": [
      "import cv2\n",
      "import tesseract\n",
      "\n",
      "image = cv2.cv.LoadImage(\"../testimages/testimage3.png\", cv2.cv.CV_LOAD_IMAGE_GRAYSCALE)\n",
      "api = tesseract.TessBaseAPI()\n",
      "api.Init(\".\",\"eng\",tesseract.OEM_DEFAULT)\n",
      "api.SetPageSegMode(tesseract.PSM_AUTO)\n",
      "tesseract.SetCvImage(image, api)\n",
      "api.GetUTF8Text()"
     ],
     "language": "python",
     "metadata": {},
     "outputs": [
      {
       "output_type": "pyout",
       "prompt_number": 7,
       "text": [
        "'H [1] CH]\\n\\nm] c\\xef\\xac\\x81l\\nT[1\\n\\nW31\\nTm C[4]\\n\\n'"
       ]
      }
     ],
     "prompt_number": 7
    }
   ],
   "metadata": {}
  }
 ]
}