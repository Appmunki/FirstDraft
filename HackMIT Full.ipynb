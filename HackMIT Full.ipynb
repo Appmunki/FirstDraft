{
 "metadata": {
  "name": "HackMIT Full"
 },
 "nbformat": 3,
 "nbformat_minor": 0,
 "worksheets": [
  {
   "cells": [
    {
     "cell_type": "code",
     "collapsed": false,
     "input": [
      "import sys\n",
      "sys.path.append(\"..\")\n",
      "from ParseTree import *\n",
      "from FindContours import *\n",
      "from BasicHTMLGenerator import *\n",
      "from CSSHTMLGenerator import *\n",
      "from BootstrapHTMLGenerator import *"
     ],
     "language": "python",
     "metadata": {},
     "outputs": [],
     "prompt_number": 1
    },
    {
     "cell_type": "code",
     "collapsed": false,
     "input": [
      "def FirstDraft(image, basic_html, css_html, bootstrap_html):\n",
      "    cf = ContourFinder()\n",
      "    contours, hir, croppedImages = cf.processImage(image)\n",
      "    print len(contours), len(hir), len(croppedImages)\n",
      "    return dictParse(contours,croppedImages,hir,0)\n",
      "    "
     ],
     "language": "python",
     "metadata": {},
     "outputs": [],
     "prompt_number": 2
    },
    {
     "cell_type": "code",
     "collapsed": false,
     "input": [
      "ct = FirstDraft(\"testimages/testimage5.png\",1,1,1)"
     ],
     "language": "python",
     "metadata": {},
     "outputs": [
      {
       "output_type": "display_data",
       "png": "[encoded data removed]"
      },
      {
       "output_type": "stream",
       "stream": "stdout",
       "text": [
        "84 11 84\n",
        "84\n",
        "84\n",
        "84\n",
        "84\n",
        "84\n",
        "84\n",
        "84\n",
        "84\n",
        "84\n",
        "84\n",
        "84\n",
        "84\n",
        "84\n",
        "84\n",
        "84\n",
        "84\n",
        "84\n",
        "84\n",
        "84\n",
        "84\n",
        "84\n",
        "84\n",
        "84\n",
        "84\n",
        "84\n",
        "84\n",
        "84\n",
        "84\n",
        "84\n",
        "84\n",
        "84\n",
        "84\n",
        "84\n",
        "84\n",
        "84\n",
        "84\n",
        "84\n",
        "84\n",
        "84\n",
        "84\n",
        "84\n",
        "84\n",
        "84\n",
        "84\n",
        "84\n",
        "84\n",
        "84\n",
        "84\n",
        "84\n",
        "84\n",
        "84\n",
        "84\n",
        "84\n",
        "84\n",
        "84\n",
        "84\n",
        "84\n",
        "84\n",
        "84\n",
        "84\n",
        "84\n",
        "84\n",
        "84\n",
        "84\n",
        "84\n",
        "84\n",
        "84\n",
        "84\n",
        "84\n",
        "84\n",
        "84\n",
        "84\n",
        "84\n",
        "84\n"
       ]
      }
     ],
     "prompt_number": 3
    },
    {
     "cell_type": "code",
     "collapsed": false,
     "input": [
      "\n",
      "vn = ContourToVisualTree(ct)"
     ],
     "language": "python",
     "metadata": {},
     "outputs": [],
     "prompt_number": "*"
    },
    {
     "cell_type": "code",
     "collapsed": false,
     "input": [],
     "language": "python",
     "metadata": {},
     "outputs": []
    }
   ],
   "metadata": {}
  }
 ]
}