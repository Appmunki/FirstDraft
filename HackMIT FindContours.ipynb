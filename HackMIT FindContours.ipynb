{
 "metadata": {
  "name": "HackMIT FindContours"
 },
 "nbformat": 3,
 "nbformat_minor": 0,
 "worksheets": [
  {
   "cells": [
    {
     "cell_type": "code",
     "collapsed": false,
     "input": [
      "import cv2\n",
      "import os\n",
      "import math\n",
      "import numpy as np\n",
      "import matplotlib.pyplot as plt\n",
      "import random as rnd\n"
     ],
     "language": "python",
     "metadata": {},
     "outputs": [],
     "prompt_number": 66
    },
    {
     "cell_type": "code",
     "collapsed": false,
     "input": [
      "def findContours(img):\n",
      "    cont = []\n",
      "    contours, hir = cv2.findContours(edges, cv2.RETR_TREE, cv2.CHAIN_APPROX_SIMPLE)\n",
      "    for i, c in enumerate(contours):\n",
      "        approx = cv2.approxPolyDP(c,0.1*cv2.arcLength(cnt,True),True)\n",
      "\n",
      "        if cv2.contourArea(c)>10 and cv2.isContourConvex(c) and approx.size>=4:  \n",
      "            cont.append(c)\n",
      "    return cont, hir"
     ],
     "language": "python",
     "metadata": {},
     "outputs": [],
     "prompt_number": 67
    },
    {
     "cell_type": "code",
     "collapsed": false,
     "input": [
      "def medianCanny(img, thresh1, thresh2):\n",
      "    median = np.median(img)\n",
      "    img = cv2.Canny(img, int(thresh1 * median), int(thresh2 * median))\n",
      "    return img"
     ],
     "language": "python",
     "metadata": {},
     "outputs": [],
     "prompt_number": 68
    },
    {
     "cell_type": "code",
     "collapsed": false,
     "input": [
      "#print data[1]\n",
      "#print max(data[1]), min(data[1])\n",
      "src = cv2.imread('testimage3.png');\n",
      "\n",
      "\n",
      "\n",
      "finalimg = src.copy()\n",
      "gray = cv2.cvtColor(src, cv2.COLOR_BGR2GRAY) # convert to grayscale\n",
      "edges = cv2.cvtColor(src, cv2.COLOR_BGR2GRAY)\n",
      "cont = cv2.cvtColor(gray, cv2.COLOR_GRAY2BGR)\n",
      "#cv2.multiply(gray, 2, gray)    \n",
      "\n",
      "\n",
      "#    /---- doing threshold filtering ----\n",
      "gray = cv2.GaussianBlur(gray, (5, 5), 0)\n",
      "\n",
      "#    \\------finished with contours\n",
      "kernel = cv2.getStructuringElement(cv2.MORPH_CROSS,(3,3))\n",
      "gray=cv2.erode(gray,kernel)\n",
      "gray=cv2.dilate(gray,kernel)\n",
      "\n",
      "#    /---- canny edge filtering ----\n",
      "\n",
      "\n",
      "\n",
      "\n",
      "\n",
      "\n",
      "mix1 = cv2.add(gray, edges) #construct red channel\n",
      "mix2 = cv2.subtract(gray, edges) # constuct blue, green channel\n",
      "color = cv2.merge([mix2, mix2, mix1])\n",
      "#    \\------finished canny\n",
      "\n",
      "\n",
      "\n",
      "#    /---- getting contours ----/\n",
      "contimg = finalimg.copy()\n",
      "contours, hir = findContours(gray)\n",
      "for i, c in enumerate(contours):\n",
      "    linecolor  = (rnd.randint(0,255), rnd.randint(0,255), rnd.randint(0,255))\n",
      "    cv2.drawContours(contimg, contours, i, linecolor, 3)\n",
      "print 'contours: '+ str(len(contours))\n",
      "\n",
      "#    \\------finished with contours\n",
      "plt.subplot(121),plt.imshow(finalimg,cmap = 'gray')\n",
      "plt.title('Original Image'), plt.xticks([]), plt.yticks([])\n",
      "plt.subplot(122),plt.imshow(contimg,cmap = 'gray')\n",
      "plt.title('Contour Image'), plt.xticks([]), plt.yticks([])\n",
      "plt.show()\n",
      "\n",
      "\n",
      "\n",
      "\n",
      "#return color\n",
      "#return [cont]        "
     ],
     "language": "python",
     "metadata": {},
     "outputs": [
      {
       "output_type": "stream",
       "stream": "stdout",
       "text": [
        "contours: 24\n"
       ]
      }
     ],
     "prompt_number": 69
    },
    {
     "cell_type": "code",
     "collapsed": false,
     "input": [
      "#make a director to store images\n",
      "if not os.path.exists(os.getcwd()+'/images'):\n",
      "    os.makedirs(os.getcwd()+'/images')\n",
      "#takes the contours, crop, and save them\n",
      "'''for i, cnt in enumerate(contours):\n",
      "    x,y,w,h = cv2.boundingRect(cnt)\n",
      "    crop = src[y:y+h,x:x+w]\n",
      "    cv2.imwrite(os.getcwd()+'/images/'+str(i)+'.png',crop)'''\n"
     ],
     "language": "python",
     "metadata": {},
     "outputs": [
      {
       "output_type": "pyout",
       "prompt_number": 39,
       "text": [
        "\"for i, cnt in enumerate(contours):\\n    x,y,w,h = cv2.boundingRect(cnt)\\n    crop = src[y:y+h,x:x+w]\\n    cv2.imwrite(os.getcwd()+'/images/'+str(i)+'.png',crop)\""
       ]
      }
     ],
     "prompt_number": 39
    },
    {
     "cell_type": "code",
     "collapsed": false,
     "input": [
      "cutoutimg = finalimg.copy()\n",
      "plt.imshow(cutoutimg)\n",
      "plt.show()\n",
      "print len(contours)\n",
      "for i, cnt in enumerate(contours):\n",
      "\n",
      "    approx = cv2.approxPolyDP(cnt,0.01*cv2.arcLength(cnt,True),True)   \n",
      "    # mask (of course replace corners with yours)\n",
      "    mask = np.zeros(cutoutimg.shape, dtype=np.uint8)\n",
      "    white = (255, 255, 255)\n",
      "    cv2.fillConvexPoly(mask, approx, white)\n",
      "    \n",
      "    # apply the mask\n",
      "    masked_image = cv2.bitwise_and(cutoutimg, mask)\n",
      "    \n",
      "    x,y,w,h = cv2.boundingRect(cnt)\n",
      "    crop = masked_image[y:y+h,x:x+w]\n",
      "    \n",
      "    # display your handywork\n",
      "    #plt.imshow(crop)\n",
      "    #plt.show()\n",
      "    cv2.imwrite(os.getcwd()+'/images/'+str(i)+'.png',crop)\n"
     ],
     "language": "python",
     "metadata": {},
     "outputs": [
      {
       "output_type": "stream",
       "stream": "stdout",
       "text": [
        "24\n"
       ]
      }
     ],
     "prompt_number": 70
    },
    {
     "cell_type": "code",
     "collapsed": false,
     "input": [],
     "language": "python",
     "metadata": {},
     "outputs": []
    },
    {
     "cell_type": "code",
     "collapsed": false,
     "input": [],
     "language": "python",
     "metadata": {},
     "outputs": []
    },
    {
     "cell_type": "code",
     "collapsed": false,
     "input": [],
     "language": "python",
     "metadata": {},
     "outputs": []
    }
   ],
   "metadata": {}
  }
 ]
}