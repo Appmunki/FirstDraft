{
 "metadata": {
  "name": "HackMIT"
 },
 "nbformat": 3,
 "nbformat_minor": 0,
 "worksheets": [
  {
   "cells": [
    {
     "cell_type": "code",
     "collapsed": false,
     "input": [
      "import cv2\n",
      "import os\n",
      "import numpy as np\n",
      "import matplotlib.pyplot as plt\n",
      "import random as rnd\n"
     ],
     "language": "python",
     "metadata": {},
     "outputs": [],
     "prompt_number": 4
    },
    {
     "cell_type": "code",
     "collapsed": false,
     "input": [
      "#print data[1]\n",
      "#print max(data[1]), min(data[1])\n",
      "src = cv2.imread(\"detect-simple-shapes-src-img.png\");\n",
      "finalimg = src.copy()\n",
      "gray = cv2.cvtColor(src, cv2.COLOR_BGR2GRAY) # convert to grayscale\n",
      "edges = cv2.cvtColor(src, cv2.COLOR_BGR2GRAY)\n",
      "cont = cv2.cvtColor(gray, cv2.COLOR_GRAY2BGR)\n",
      "#cv2.multiply(gray, 2, gray)    \n",
      "\n",
      "\n",
      "#    /---- doing threshold filtering ----\n",
      "'''histmax, thres = histogram(gray)\n",
      "bw = cv2.threshold(gray, thres, 255, cv2.THRESH_BINARY)[1]\n",
      "bw = cv2.medianBlur(bw, 13)'''\n",
      "#    \\------finished with contours\n",
      "\n",
      "\n",
      "\n",
      "#    /---- canny edge filtering ----\n",
      "low_threshold = 75\n",
      "edges = cv2.Canny(gray,low_threshold,low_threshold*3, edges, 3) # low_threshold*3 for high_treshold is recommended by canny\n",
      "kernel = cv2.getStructuringElement(cv2.MORPH_CROSS,(1,1))\n",
      "edges= cv2.dilate(edges,kernel)\n",
      "\n",
      "mix1 = cv2.add(gray, edges) #construct red channel\n",
      "mix2 = cv2.subtract(gray, edges) # constuct blue, green channel\n",
      "color = cv2.merge([mix2, mix2, mix1])\n",
      "#    \\------finished canny\n",
      "\n",
      "\n",
      "\n",
      "#    /---- getting contours ----/\n",
      "\n",
      "contours, hir = cv2.findContours(edges, cv2.RETR_TREE, cv2.CHAIN_APPROX_SIMPLE)\n",
      "for i, c in enumerate(contours):\n",
      "    if cv2.contourArea(c)>100:  # remove small areas like noise etc\n",
      "        linecolor  = (rnd.randint(0,255), rnd.randint(0,255), rnd.randint(0,255))\n",
      "        cv2.drawContours(finalimg, contours, i, linecolor, 3)\n",
      "\n",
      "print len(contours)\n",
      "#    \\------finished with contours\n",
      "plt.subplot(121),plt.imshow(src,cmap = 'gray')\n",
      "plt.title('Original Image'), plt.xticks([]), plt.yticks([])\n",
      "plt.subplot(122),plt.imshow(finalimg,cmap = 'gray')\n",
      "plt.title('Contour Image'), plt.xticks([]), plt.yticks([])\n",
      "plt.show()\n",
      "\n",
      "\n",
      "\n",
      "\n",
      "#return color\n",
      "#return [cont]        "
     ],
     "language": "python",
     "metadata": {},
     "outputs": [
      {
       "output_type": "stream",
       "stream": "stdout",
       "text": [
        "23\n"
       ]
      }
     ],
     "prompt_number": 10
    },
    {
     "cell_type": "code",
     "collapsed": false,
     "input": [
      "#make a director to store images\n",
      "if not os.path.exists(os.getcwd()+'/images'):\n",
      "    os.makedirs(os.getcwd()+'/images')\n",
      "#takes the contours, crop, and save them\n",
      "for i, cnt in enumerate(contours):\n",
      "    x,y,w,h = cv2.boundingRect(cnt)\n",
      "    crop = src[y:y+h,x:x+w]\n",
      "    cv2.imwrite(os.getcwd()+'/images/'+str(i)+'.png',crop)"
     ],
     "language": "python",
     "metadata": {},
     "outputs": [],
     "prompt_number": 14
    },
    {
     "cell_type": "code",
     "collapsed": false,
     "input": [],
     "language": "python",
     "metadata": {},
     "outputs": []
    }
   ],
   "metadata": {}
  }
 ]
}