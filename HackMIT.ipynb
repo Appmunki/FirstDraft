{
 "metadata": {
  "name": "HackMIT"
 },
 "nbformat": 3,
 "nbformat_minor": 0,
 "worksheets": [
  {
   "cells": [
    {
     "cell_type": "code",
     "collapsed": false,
     "input": [
      "import cv2\n",
      "import os\n",
      "import numpy as np\n",
      "import matplotlib.pyplot as plt\n",
      "import random as rnd\n"
     ],
     "language": "python",
     "metadata": {},
     "outputs": [],
     "prompt_number": 4
    },
    {
     "cell_type": "code",
     "collapsed": false,
     "input": [
      "\n",
      "\n",
      "img = cv2.imread('testimage2.jpg')\n",
      "\n",
      "gray = cv2.cvtColor(img,cv2.COLOR_BGR2GRAY)\n",
      "#cv2.blur(img,(3,3));\n",
      "ret,thresh1 = cv2.threshold(gray,127,255,cv2.THRESH_BINARY)\n",
      "ret,thresh2 = cv2.threshold(gray,127,255,cv2.THRESH_BINARY_INV)\n",
      "ret,thresh3 = cv2.threshold(gray,127,255,cv2.THRESH_TRUNC)\n",
      "ret,thresh4 = cv2.threshold(gray,127,255,cv2.THRESH_TOZERO)\n",
      "ret,thresh5 = cv2.threshold(gray,127,255,cv2.THRESH_TOZERO_INV)\n",
      "ret,thresh = cv2.threshold(gray,0,200,0)\n",
      "contours,hier = cv2.findContours(thresh1,cv2.RETR_LIST,cv2.CHAIN_APPROX_SIMPLE)\n",
      "\n",
      "for cnt in contours:\n",
      "    if cv2.contourArea(cnt)>500:  # remove small areas like noise etc\n",
      "        hull = cv2.convexHull(cnt)    # find the convex hull of contour\n",
      "        hull = cv2.approxPolyDP(hull,0.1*cv2.arcLength(hull,True),True)\n",
      "        if len(hull)==4:\n",
      "            cv2.drawContours(img,[hull],0,(0,255,0),10)\n",
      "            \n",
      "\n",
      "plt.imshow(img)\n",
      "plt.show()\n",
      "\n"
     ],
     "language": "python",
     "metadata": {},
     "outputs": [],
     "prompt_number": 5
    },
    {
     "cell_type": "code",
     "collapsed": false,
     "input": [
      "#load the source image\n",
      "src = cv2.imread(\"detect-simple-shapes-src-img.png\");\n",
      "\n",
      "#blur the image\n",
      "blurred = cv2.medianBlur(src,9)\n",
      "#convert to grat scale\n",
      "gray = cv2.cvtColor(src,cv2.COLOR_BGR2GRAY)\n",
      "\n",
      "#attempted to\n",
      "\n",
      "#convert to a binary image and take canny\n",
      "bw = cv2.Canny(gray,100,200)\n",
      "\n",
      "plt.subplot(131),plt.imshow(src,cmap = 'gray')\n",
      "plt.title('Original Image'), plt.xticks([]), plt.yticks([])\n",
      "plt.subplot(132),plt.imshow(gray,cmap = 'gray')\n",
      "plt.title('Gray Image'), plt.xticks([]), plt.yticks([])\n",
      "plt.subplot(133),plt.imshow(bw,cmap = 'gray')\n",
      "plt.title('Edge Image'), plt.xticks([]), plt.yticks([])\n",
      "plt.show()"
     ],
     "language": "python",
     "metadata": {},
     "outputs": [],
     "prompt_number": 6
    },
    {
     "cell_type": "code",
     "collapsed": false,
     "input": [
      "'''contimg = bw.copy()\n",
      "contours,hier = cv2.findContours(bw,cv2.RETR_LIST,cv2.CHAIN_APPROX_SIMPLE)\n",
      "for cnt in contours:\n",
      "    if cv2.contourArea(cnt)>1:  # remove small areas like noise etc\n",
      "        hull = cv2.convexHull(cnt)    # find the convex hull of contour\n",
      "        hull = cv2.approxPolyDP(hull,0.02*cv2.arcLength(hull,True),True)\n",
      "        print(\"test\")\n",
      "        cv2.drawContours(contimg,[hull],0,(0,255,10),4)\n",
      "        if cv2.isContourConvex(cnt):\n",
      "            print(\"Test\")\n",
      "            #cv2.drawContours(bw,[hull],0,(0,255,0),0)\n",
      "            \n",
      "plt.subplot(121),plt.imshow(bw,cmap = 'gray')\n",
      "plt.title('Canny Image'), plt.xticks([]), plt.yticks([])\n",
      "plt.subplot(122),plt.imshow(contimg,cmap = 'gray')\n",
      "plt.title('Contour Image'), plt.xticks([]), plt.yticks([])\n",
      "plt.show()'''"
     ],
     "language": "python",
     "metadata": {},
     "outputs": [
      {
       "output_type": "pyout",
       "prompt_number": 7,
       "text": [
        "'contimg = bw.copy()\\ncontours,hier = cv2.findContours(bw,cv2.RETR_LIST,cv2.CHAIN_APPROX_SIMPLE)\\nfor cnt in contours:\\n    if cv2.contourArea(cnt)>1:  # remove small areas like noise etc\\n        hull = cv2.convexHull(cnt)    # find the convex hull of contour\\n        hull = cv2.approxPolyDP(hull,0.02*cv2.arcLength(hull,True),True)\\n        print(\"test\")\\n        cv2.drawContours(contimg,[hull],0,(0,255,10),4)\\n        if cv2.isContourConvex(cnt):\\n            print(\"Test\")\\n            #cv2.drawContours(bw,[hull],0,(0,255,0),0)\\n            \\nplt.subplot(121),plt.imshow(bw,cmap = \\'gray\\')\\nplt.title(\\'Canny Image\\'), plt.xticks([]), plt.yticks([])\\nplt.subplot(122),plt.imshow(contimg,cmap = \\'gray\\')\\nplt.title(\\'Contour Image\\'), plt.xticks([]), plt.yticks([])\\nplt.show()'"
       ]
      }
     ],
     "prompt_number": 7
    },
    {
     "cell_type": "code",
     "collapsed": false,
     "input": [
      "for i in range(0,3):\n",
      "    cv2.mixChannels(blurred,gray,(0,i))\n",
      "    threshold_level = 2\n",
      "    for l in range(0,threshold_level):\n",
      "        if l==0:\n",
      "            edge = cv2.Canny(gray,100,200)\n",
      "            kernel = cv2.getStructuringElement(cv2.MORPH_CROSS,(-1,1))\n",
      "            edge= cv2.dilate(edge,kernel)\n",
      "        else:\n",
      "            edge = gray >= (l+1) * 255 / threshold_level\n",
      "        contours=cv2.findContours(edge,cv2.RETR_LIST,cv2.CHAIN_APPROX_SIMPLE)\n",
      "        \n",
      "        hull = cv2.convexHull(cnt)    # find the convex hull of contour\n",
      "        cv2.drawContours(gray,[hull],0,(0,255,10),4)\n",
      "plt.imshow(gray)\n",
      "plt.show()"
     ],
     "language": "python",
     "metadata": {},
     "outputs": [
      {
       "ename": "error",
       "evalue": "/home/radzell/OpenCV-2.4.3/modules/core/src/matrix.cpp:3101: error: (-215) A.size == arrays[i0]->size in function init\n",
       "output_type": "pyerr",
       "traceback": [
        "\u001b[1;31m---------------------------------------------------------------------------\u001b[0m\n\u001b[1;31merror\u001b[0m                                     Traceback (most recent call last)",
        "\u001b[1;32m<ipython-input-8-e751cba464da>\u001b[0m in \u001b[0;36m<module>\u001b[1;34m()\u001b[0m\n\u001b[0;32m      1\u001b[0m \u001b[1;32mfor\u001b[0m \u001b[0mi\u001b[0m \u001b[1;32min\u001b[0m \u001b[0mrange\u001b[0m\u001b[1;33m(\u001b[0m\u001b[1;36m0\u001b[0m\u001b[1;33m,\u001b[0m\u001b[1;36m3\u001b[0m\u001b[1;33m)\u001b[0m\u001b[1;33m:\u001b[0m\u001b[1;33m\u001b[0m\u001b[0m\n\u001b[1;32m----> 2\u001b[1;33m     \u001b[0mcv2\u001b[0m\u001b[1;33m.\u001b[0m\u001b[0mmixChannels\u001b[0m\u001b[1;33m(\u001b[0m\u001b[0mblurred\u001b[0m\u001b[1;33m,\u001b[0m\u001b[0mgray\u001b[0m\u001b[1;33m,\u001b[0m\u001b[1;33m(\u001b[0m\u001b[1;36m0\u001b[0m\u001b[1;33m,\u001b[0m\u001b[0mi\u001b[0m\u001b[1;33m)\u001b[0m\u001b[1;33m)\u001b[0m\u001b[1;33m\u001b[0m\u001b[0m\n\u001b[0m\u001b[0;32m      3\u001b[0m     \u001b[0mthreshold_level\u001b[0m \u001b[1;33m=\u001b[0m \u001b[1;36m2\u001b[0m\u001b[1;33m\u001b[0m\u001b[0m\n\u001b[0;32m      4\u001b[0m     \u001b[1;32mfor\u001b[0m \u001b[0ml\u001b[0m \u001b[1;32min\u001b[0m \u001b[0mrange\u001b[0m\u001b[1;33m(\u001b[0m\u001b[1;36m0\u001b[0m\u001b[1;33m,\u001b[0m\u001b[0mthreshold_level\u001b[0m\u001b[1;33m)\u001b[0m\u001b[1;33m:\u001b[0m\u001b[1;33m\u001b[0m\u001b[0m\n\u001b[0;32m      5\u001b[0m         \u001b[1;32mif\u001b[0m \u001b[0ml\u001b[0m\u001b[1;33m==\u001b[0m\u001b[1;36m0\u001b[0m\u001b[1;33m:\u001b[0m\u001b[1;33m\u001b[0m\u001b[0m\n",
        "\u001b[1;31merror\u001b[0m: /home/radzell/OpenCV-2.4.3/modules/core/src/matrix.cpp:3101: error: (-215) A.size == arrays[i0]->size in function init\n"
       ]
      }
     ],
     "prompt_number": 8
    },
    {
     "cell_type": "code",
     "collapsed": false,
     "input": [
      "#print data[1]\n",
      "#print max(data[1]), min(data[1])\n",
      "src = cv2.imread(\"detect-simple-shapes-src-img.png\");\n",
      "finalimg = src.copy()\n",
      "gray = cv2.cvtColor(src, cv2.COLOR_BGR2GRAY) # convert to grayscale\n",
      "edges = cv2.cvtColor(src, cv2.COLOR_BGR2GRAY)\n",
      "cont = cv2.cvtColor(gray, cv2.COLOR_GRAY2BGR)\n",
      "#cv2.multiply(gray, 2, gray)    \n",
      "\n",
      "\n",
      "#    /---- doing threshold filtering ----\n",
      "'''histmax, thres = histogram(gray)\n",
      "bw = cv2.threshold(gray, thres, 255, cv2.THRESH_BINARY)[1]\n",
      "bw = cv2.medianBlur(bw, 13)'''\n",
      "#    \\------finished with contours\n",
      "\n",
      "\n",
      "\n",
      "#    /---- canny edge filtering ----\n",
      "low_threshold = 75\n",
      "edges = cv2.Canny(gray,low_threshold,low_threshold*3, edges, 3) # low_threshold*3 for high_treshold is recommended by canny\n",
      "kernel = cv2.getStructuringElement(cv2.MORPH_CROSS,(1,1))\n",
      "edges= cv2.dilate(edges,kernel)\n",
      "\n",
      "mix1 = cv2.add(gray, edges) #construct red channel\n",
      "mix2 = cv2.subtract(gray, edges) # constuct blue, green channel\n",
      "color = cv2.merge([mix2, mix2, mix1])\n",
      "#    \\------finished canny\n",
      "\n",
      "\n",
      "\n",
      "#    /---- getting contours ----/\n",
      "\n",
      "contours, hir = cv2.findContours(edges, cv2.RETR_TREE, cv2.CHAIN_APPROX_SIMPLE)\n",
      "for i, c in enumerate(contours):\n",
      "    if cv2.contourArea(c)>100:  # remove small areas like noise etc\n",
      "        linecolor  = (rnd.randint(0,255), rnd.randint(0,255), rnd.randint(0,255))\n",
      "        cv2.drawContours(finalimg, contours, i, linecolor, 3)\n",
      "\n",
      "print len(contours)\n",
      "#    \\------finished with contours\n",
      "plt.subplot(121),plt.imshow(src,cmap = 'gray')\n",
      "plt.title('Original Image'), plt.xticks([]), plt.yticks([])\n",
      "plt.subplot(122),plt.imshow(finalimg,cmap = 'gray')\n",
      "plt.title('Contour Image'), plt.xticks([]), plt.yticks([])\n",
      "plt.show()\n",
      "\n",
      "\n",
      "\n",
      "\n",
      "#return color\n",
      "#return [cont]        "
     ],
     "language": "python",
     "metadata": {},
     "outputs": [
      {
       "output_type": "stream",
       "stream": "stdout",
       "text": [
        "23\n"
       ]
      }
     ],
     "prompt_number": 10
    },
    {
     "cell_type": "code",
     "collapsed": false,
     "input": [
      "#make a director to store images\n",
      "if not os.path.exists(os.getcwd()+'/images'):\n",
      "    os.makedirs(os.getcwd()+'/images')\n",
      "for i, cnt in enumerate(contours):\n",
      "    x,y,w,h = cv2.boundingRect(cnt)\n",
      "    crop = src[y:y+h,x:x+w]\n",
      "    cv2.imwrite(os.getcwd()+'/images/'+str(i)+'.png',crop)"
     ],
     "language": "python",
     "metadata": {},
     "outputs": [
      {
       "ename": "TypeError",
       "evalue": "cannot concatenate 'str' and 'int' objects",
       "output_type": "pyerr",
       "traceback": [
        "\u001b[1;31m---------------------------------------------------------------------------\u001b[0m\n\u001b[1;31mTypeError\u001b[0m                                 Traceback (most recent call last)",
        "\u001b[1;32m<ipython-input-13-9798a6bea41c>\u001b[0m in \u001b[0;36m<module>\u001b[1;34m()\u001b[0m\n\u001b[0;32m      5\u001b[0m     \u001b[0mx\u001b[0m\u001b[1;33m,\u001b[0m\u001b[0my\u001b[0m\u001b[1;33m,\u001b[0m\u001b[0mw\u001b[0m\u001b[1;33m,\u001b[0m\u001b[0mh\u001b[0m \u001b[1;33m=\u001b[0m \u001b[0mcv2\u001b[0m\u001b[1;33m.\u001b[0m\u001b[0mboundingRect\u001b[0m\u001b[1;33m(\u001b[0m\u001b[0mcnt\u001b[0m\u001b[1;33m)\u001b[0m\u001b[1;33m\u001b[0m\u001b[0m\n\u001b[0;32m      6\u001b[0m     \u001b[0mcrop\u001b[0m \u001b[1;33m=\u001b[0m \u001b[0msrc\u001b[0m\u001b[1;33m[\u001b[0m\u001b[0my\u001b[0m\u001b[1;33m:\u001b[0m\u001b[0my\u001b[0m\u001b[1;33m+\u001b[0m\u001b[0mh\u001b[0m\u001b[1;33m,\u001b[0m\u001b[0mx\u001b[0m\u001b[1;33m:\u001b[0m\u001b[0mx\u001b[0m\u001b[1;33m+\u001b[0m\u001b[0mw\u001b[0m\u001b[1;33m]\u001b[0m\u001b[1;33m\u001b[0m\u001b[0m\n\u001b[1;32m----> 7\u001b[1;33m     \u001b[0mcv2\u001b[0m\u001b[1;33m.\u001b[0m\u001b[0mimwrite\u001b[0m\u001b[1;33m(\u001b[0m\u001b[0mos\u001b[0m\u001b[1;33m.\u001b[0m\u001b[0mgetcwd\u001b[0m\u001b[1;33m(\u001b[0m\u001b[1;33m)\u001b[0m\u001b[1;33m+\u001b[0m\u001b[1;34m'/images/'\u001b[0m\u001b[1;33m+\u001b[0m\u001b[0mi\u001b[0m\u001b[1;33m+\u001b[0m\u001b[1;34m'.png'\u001b[0m\u001b[1;33m,\u001b[0m\u001b[0mcrop\u001b[0m\u001b[1;33m)\u001b[0m\u001b[1;33m\u001b[0m\u001b[0m\n\u001b[0m",
        "\u001b[1;31mTypeError\u001b[0m: cannot concatenate 'str' and 'int' objects"
       ]
      }
     ],
     "prompt_number": 13
    },
    {
     "cell_type": "code",
     "collapsed": false,
     "input": [],
     "language": "python",
     "metadata": {},
     "outputs": []
    }
   ],
   "metadata": {}
  }
 ]
}